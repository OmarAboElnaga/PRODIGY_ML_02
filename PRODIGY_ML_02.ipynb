{
 "cells": [
  {
   "cell_type": "code",
   "execution_count": 1,
   "id": "8d828bb9",
   "metadata": {
    "_cell_guid": "b1076dfc-b9ad-4769-8c92-a6c4dae69d19",
    "_uuid": "8f2839f25d086af736a60e9eeb907d3b93b6e0e5",
    "execution": {
     "iopub.execute_input": "2024-03-10T23:05:14.153647Z",
     "iopub.status.busy": "2024-03-10T23:05:14.153255Z",
     "iopub.status.idle": "2024-03-10T23:05:16.710110Z",
     "shell.execute_reply": "2024-03-10T23:05:16.708844Z"
    },
    "papermill": {
     "duration": 2.56547,
     "end_time": "2024-03-10T23:05:16.712833",
     "exception": false,
     "start_time": "2024-03-10T23:05:14.147363",
     "status": "completed"
    },
    "tags": []
   },
   "outputs": [],
   "source": [
    "import numpy as np\n",
    "import pandas as pd \n",
    "import matplotlib.pyplot as plt\n",
    "from sklearn.cluster import KMeans\n",
    "import warnings\n",
    "warnings.filterwarnings(\"ignore\")"
   ]
  },
  {
   "cell_type": "code",
   "execution_count": 2,
   "id": "0bf9ad06",
   "metadata": {
    "execution": {
     "iopub.execute_input": "2024-03-10T23:05:16.722798Z",
     "iopub.status.busy": "2024-03-10T23:05:16.721503Z",
     "iopub.status.idle": "2024-03-10T23:05:16.761254Z",
     "shell.execute_reply": "2024-03-10T23:05:16.760122Z"
    },
    "papermill": {
     "duration": 0.046999,
     "end_time": "2024-03-10T23:05:16.763849",
     "exception": false,
     "start_time": "2024-03-10T23:05:16.716850",
     "status": "completed"
    },
    "tags": []
   },
   "outputs": [
    {
     "data": {
      "text/html": [
       "<div>\n",
       "<style scoped>\n",
       "    .dataframe tbody tr th:only-of-type {\n",
       "        vertical-align: middle;\n",
       "    }\n",
       "\n",
       "    .dataframe tbody tr th {\n",
       "        vertical-align: top;\n",
       "    }\n",
       "\n",
       "    .dataframe thead th {\n",
       "        text-align: right;\n",
       "    }\n",
       "</style>\n",
       "<table border=\"1\" class=\"dataframe\">\n",
       "  <thead>\n",
       "    <tr style=\"text-align: right;\">\n",
       "      <th></th>\n",
       "      <th>CustomerID</th>\n",
       "      <th>Gender</th>\n",
       "      <th>Age</th>\n",
       "      <th>Annual Income (k$)</th>\n",
       "      <th>Spending Score (1-100)</th>\n",
       "    </tr>\n",
       "  </thead>\n",
       "  <tbody>\n",
       "    <tr>\n",
       "      <th>0</th>\n",
       "      <td>1</td>\n",
       "      <td>Male</td>\n",
       "      <td>19</td>\n",
       "      <td>15</td>\n",
       "      <td>39</td>\n",
       "    </tr>\n",
       "    <tr>\n",
       "      <th>1</th>\n",
       "      <td>2</td>\n",
       "      <td>Male</td>\n",
       "      <td>21</td>\n",
       "      <td>15</td>\n",
       "      <td>81</td>\n",
       "    </tr>\n",
       "    <tr>\n",
       "      <th>2</th>\n",
       "      <td>3</td>\n",
       "      <td>Female</td>\n",
       "      <td>20</td>\n",
       "      <td>16</td>\n",
       "      <td>6</td>\n",
       "    </tr>\n",
       "    <tr>\n",
       "      <th>3</th>\n",
       "      <td>4</td>\n",
       "      <td>Female</td>\n",
       "      <td>23</td>\n",
       "      <td>16</td>\n",
       "      <td>77</td>\n",
       "    </tr>\n",
       "    <tr>\n",
       "      <th>4</th>\n",
       "      <td>5</td>\n",
       "      <td>Female</td>\n",
       "      <td>31</td>\n",
       "      <td>17</td>\n",
       "      <td>40</td>\n",
       "    </tr>\n",
       "  </tbody>\n",
       "</table>\n",
       "</div>"
      ],
      "text/plain": [
       "   CustomerID  Gender  Age  Annual Income (k$)  Spending Score (1-100)\n",
       "0           1    Male   19                  15                      39\n",
       "1           2    Male   21                  15                      81\n",
       "2           3  Female   20                  16                       6\n",
       "3           4  Female   23                  16                      77\n",
       "4           5  Female   31                  17                      40"
      ]
     },
     "execution_count": 2,
     "metadata": {},
     "output_type": "execute_result"
    }
   ],
   "source": [
    "df = pd.read_csv(\"/kaggle/input/customer-segmentation-tutorial-in-python/Mall_Customers.csv\")\n",
    "df.head()"
   ]
  },
  {
   "cell_type": "code",
   "execution_count": 3,
   "id": "b6e27519",
   "metadata": {
    "execution": {
     "iopub.execute_input": "2024-03-10T23:05:16.772902Z",
     "iopub.status.busy": "2024-03-10T23:05:16.772495Z",
     "iopub.status.idle": "2024-03-10T23:05:16.782856Z",
     "shell.execute_reply": "2024-03-10T23:05:16.781840Z"
    },
    "papermill": {
     "duration": 0.017176,
     "end_time": "2024-03-10T23:05:16.784865",
     "exception": false,
     "start_time": "2024-03-10T23:05:16.767689",
     "status": "completed"
    },
    "tags": []
   },
   "outputs": [
    {
     "data": {
      "text/html": [
       "<div>\n",
       "<style scoped>\n",
       "    .dataframe tbody tr th:only-of-type {\n",
       "        vertical-align: middle;\n",
       "    }\n",
       "\n",
       "    .dataframe tbody tr th {\n",
       "        vertical-align: top;\n",
       "    }\n",
       "\n",
       "    .dataframe thead th {\n",
       "        text-align: right;\n",
       "    }\n",
       "</style>\n",
       "<table border=\"1\" class=\"dataframe\">\n",
       "  <thead>\n",
       "    <tr style=\"text-align: right;\">\n",
       "      <th></th>\n",
       "      <th>CustomerID</th>\n",
       "      <th>Gender</th>\n",
       "      <th>Age</th>\n",
       "      <th>Annual Income (k$)</th>\n",
       "      <th>Spending Score (1-100)</th>\n",
       "    </tr>\n",
       "  </thead>\n",
       "  <tbody>\n",
       "    <tr>\n",
       "      <th>195</th>\n",
       "      <td>196</td>\n",
       "      <td>Female</td>\n",
       "      <td>35</td>\n",
       "      <td>120</td>\n",
       "      <td>79</td>\n",
       "    </tr>\n",
       "    <tr>\n",
       "      <th>196</th>\n",
       "      <td>197</td>\n",
       "      <td>Female</td>\n",
       "      <td>45</td>\n",
       "      <td>126</td>\n",
       "      <td>28</td>\n",
       "    </tr>\n",
       "    <tr>\n",
       "      <th>197</th>\n",
       "      <td>198</td>\n",
       "      <td>Male</td>\n",
       "      <td>32</td>\n",
       "      <td>126</td>\n",
       "      <td>74</td>\n",
       "    </tr>\n",
       "    <tr>\n",
       "      <th>198</th>\n",
       "      <td>199</td>\n",
       "      <td>Male</td>\n",
       "      <td>32</td>\n",
       "      <td>137</td>\n",
       "      <td>18</td>\n",
       "    </tr>\n",
       "    <tr>\n",
       "      <th>199</th>\n",
       "      <td>200</td>\n",
       "      <td>Male</td>\n",
       "      <td>30</td>\n",
       "      <td>137</td>\n",
       "      <td>83</td>\n",
       "    </tr>\n",
       "  </tbody>\n",
       "</table>\n",
       "</div>"
      ],
      "text/plain": [
       "     CustomerID  Gender  Age  Annual Income (k$)  Spending Score (1-100)\n",
       "195         196  Female   35                 120                      79\n",
       "196         197  Female   45                 126                      28\n",
       "197         198    Male   32                 126                      74\n",
       "198         199    Male   32                 137                      18\n",
       "199         200    Male   30                 137                      83"
      ]
     },
     "execution_count": 3,
     "metadata": {},
     "output_type": "execute_result"
    }
   ],
   "source": [
    "df.tail()"
   ]
  },
  {
   "cell_type": "code",
   "execution_count": 4,
   "id": "a8ef9da2",
   "metadata": {
    "execution": {
     "iopub.execute_input": "2024-03-10T23:05:16.794528Z",
     "iopub.status.busy": "2024-03-10T23:05:16.794110Z",
     "iopub.status.idle": "2024-03-10T23:05:17.051526Z",
     "shell.execute_reply": "2024-03-10T23:05:17.050356Z"
    },
    "papermill": {
     "duration": 0.264925,
     "end_time": "2024-03-10T23:05:17.053960",
     "exception": false,
     "start_time": "2024-03-10T23:05:16.789035",
     "status": "completed"
    },
    "tags": []
   },
   "outputs": [
    {
     "data": {
      "image/png": "[encoded data removed]",
      "text/plain": [
       "<Figure size 640x480 with 1 Axes>"
      ]
     },
     "metadata": {},
     "output_type": "display_data"
    }
   ],
   "source": [
    "plt.scatter(df[\"Spending Score (1-100)\"] , df[\"Annual Income (k$)\"])\n",
    "plt.show()"
   ]
  },
  {
   "cell_type": "code",
   "execution_count": 5,
   "id": "bf56f3e5",
   "metadata": {
    "execution": {
     "iopub.execute_input": "2024-03-10T23:05:17.064711Z",
     "iopub.status.busy": "2024-03-10T23:05:17.064049Z",
     "iopub.status.idle": "2024-03-10T23:05:18.299143Z",
     "shell.execute_reply": "2024-03-10T23:05:18.298201Z"
    },
    "papermill": {
     "duration": 1.243662,
     "end_time": "2024-03-10T23:05:18.301862",
     "exception": false,
     "start_time": "2024-03-10T23:05:17.058200",
     "status": "completed"
    },
    "tags": []
   },
   "outputs": [],
   "source": [
    "ssw = []\n",
    "clusters = range(1,10)\n",
    "for i in clusters:\n",
    "    model = KMeans(n_clusters = i , init='k-means++' , n_init=100)\n",
    "    model.fit(df[[\"Spending Score (1-100)\" , \"Annual Income (k$)\"]])\n",
    "    ssw.append(model.inertia_)"
   ]
  },
  {
   "cell_type": "code",
   "execution_count": 6,
   "id": "7021d6ed",
   "metadata": {
    "execution": {
     "iopub.execute_input": "2024-03-10T23:05:18.311917Z",
     "iopub.status.busy": "2024-03-10T23:05:18.311553Z",
     "iopub.status.idle": "2024-03-10T23:05:18.595666Z",
     "shell.execute_reply": "2024-03-10T23:05:18.594291Z"
    },
    "papermill": {
     "duration": 0.291953,
     "end_time": "2024-03-10T23:05:18.598245",
     "exception": false,
     "start_time": "2024-03-10T23:05:18.306292",
     "status": "completed"
    },
    "tags": []
   },
   "outputs": [
    {
     "data": {
      "text/plain": [
       "[<matplotlib.lines.Line2D at 0x7b84ca589480>]"
      ]
     },
     "execution_count": 6,
     "metadata": {},
     "output_type": "execute_result"
    },
    {
     "data": {
      "image/png": "[encoded data removed]",
      "text/plain": [
       "<Figure size 640x480 with 1 Axes>"
      ]
     },
     "metadata": {},
     "output_type": "display_data"
    }
   ],
   "source": [
    "plt.xlabel(\"Number of clusters\")\n",
    "plt.ylabel(\"SSW\")\n",
    "plt.title(\"Elbow plot\")\n",
    "plt.plot(clusters , ssw)"
   ]
  },
  {
   "cell_type": "markdown",
   "id": "ccbe0aed",
   "metadata": {
    "papermill": {
     "duration": 0.004573,
     "end_time": "2024-03-10T23:05:18.607984",
     "exception": false,
     "start_time": "2024-03-10T23:05:18.603411",
     "status": "completed"
    },
    "tags": []
   },
   "source": [
    "Elbow plot has indentified that 5 groups clustering is the best way for clustering data"
   ]
  },
  {
   "cell_type": "code",
   "execution_count": 7,
   "id": "72d051ba",
   "metadata": {
    "execution": {
     "iopub.execute_input": "2024-03-10T23:05:18.619834Z",
     "iopub.status.busy": "2024-03-10T23:05:18.618955Z",
     "iopub.status.idle": "2024-03-10T23:05:18.779083Z",
     "shell.execute_reply": "2024-03-10T23:05:18.778171Z"
    },
    "papermill": {
     "duration": 0.168674,
     "end_time": "2024-03-10T23:05:18.781483",
     "exception": false,
     "start_time": "2024-03-10T23:05:18.612809",
     "status": "completed"
    },
    "tags": []
   },
   "outputs": [
    {
     "data": {
      "text/plain": [
       "array([4, 3, 4, 3, 4, 3, 4, 3, 4, 3, 4, 3, 4, 3, 4, 3, 4, 3, 4, 3, 4, 3,\n",
       "       4, 3, 4, 3, 4, 3, 4, 3, 4, 3, 4, 3, 4, 3, 4, 3, 4, 3, 4, 3, 4, 0,\n",
       "       4, 3, 0, 0, 0, 0, 0, 0, 0, 0, 0, 0, 0, 0, 0, 0, 0, 0, 0, 0, 0, 0,\n",
       "       0, 0, 0, 0, 0, 0, 0, 0, 0, 0, 0, 0, 0, 0, 0, 0, 0, 0, 0, 0, 0, 0,\n",
       "       0, 0, 0, 0, 0, 0, 0, 0, 0, 0, 0, 0, 0, 0, 0, 0, 0, 0, 0, 0, 0, 0,\n",
       "       0, 0, 0, 0, 0, 0, 0, 0, 0, 0, 0, 0, 0, 1, 2, 1, 0, 1, 2, 1, 2, 1,\n",
       "       0, 1, 2, 1, 2, 1, 2, 1, 2, 1, 0, 1, 2, 1, 2, 1, 2, 1, 2, 1, 2, 1,\n",
       "       2, 1, 2, 1, 2, 1, 2, 1, 2, 1, 2, 1, 2, 1, 2, 1, 2, 1, 2, 1, 2, 1,\n",
       "       2, 1, 2, 1, 2, 1, 2, 1, 2, 1, 2, 1, 2, 1, 2, 1, 2, 1, 2, 1, 2, 1,\n",
       "       2, 1], dtype=int32)"
      ]
     },
     "execution_count": 7,
     "metadata": {},
     "output_type": "execute_result"
    }
   ],
   "source": [
    "model = KMeans(n_clusters = 5, init='k-means++',n_init=100)\n",
    "y_predicted  = model.fit_predict(df[[\"Spending Score (1-100)\" , \"Annual Income (k$)\"]])\n",
    "y_predicted"
   ]
  },
  {
   "cell_type": "code",
   "execution_count": 8,
   "id": "aa255351",
   "metadata": {
    "execution": {
     "iopub.execute_input": "2024-03-10T23:05:18.794858Z",
     "iopub.status.busy": "2024-03-10T23:05:18.792968Z",
     "iopub.status.idle": "2024-03-10T23:05:18.800466Z",
     "shell.execute_reply": "2024-03-10T23:05:18.799421Z"
    },
    "papermill": {
     "duration": 0.016353,
     "end_time": "2024-03-10T23:05:18.802892",
     "exception": false,
     "start_time": "2024-03-10T23:05:18.786539",
     "status": "completed"
    },
    "tags": []
   },
   "outputs": [],
   "source": [
    "df[\"Group\"] = y_predicted"
   ]
  },
  {
   "cell_type": "code",
   "execution_count": 9,
   "id": "ed76cc61",
   "metadata": {
    "execution": {
     "iopub.execute_input": "2024-03-10T23:05:18.814498Z",
     "iopub.status.busy": "2024-03-10T23:05:18.814083Z",
     "iopub.status.idle": "2024-03-10T23:05:18.832010Z",
     "shell.execute_reply": "2024-03-10T23:05:18.830791Z"
    },
    "papermill": {
     "duration": 0.026512,
     "end_time": "2024-03-10T23:05:18.834454",
     "exception": false,
     "start_time": "2024-03-10T23:05:18.807942",
     "status": "completed"
    },
    "tags": []
   },
   "outputs": [
    {
     "data": {
      "text/html": [
       "<div>\n",
       "<style scoped>\n",
       "    .dataframe tbody tr th:only-of-type {\n",
       "        vertical-align: middle;\n",
       "    }\n",
       "\n",
       "    .dataframe tbody tr th {\n",
       "        vertical-align: top;\n",
       "    }\n",
       "\n",
       "    .dataframe thead th {\n",
       "        text-align: right;\n",
       "    }\n",
       "</style>\n",
       "<table border=\"1\" class=\"dataframe\">\n",
       "  <thead>\n",
       "    <tr style=\"text-align: right;\">\n",
       "      <th></th>\n",
       "      <th>CustomerID</th>\n",
       "      <th>Gender</th>\n",
       "      <th>Age</th>\n",
       "      <th>Annual Income (k$)</th>\n",
       "      <th>Spending Score (1-100)</th>\n",
       "      <th>Group</th>\n",
       "    </tr>\n",
       "  </thead>\n",
       "  <tbody>\n",
       "    <tr>\n",
       "      <th>0</th>\n",
       "      <td>1</td>\n",
       "      <td>Male</td>\n",
       "      <td>19</td>\n",
       "      <td>15</td>\n",
       "      <td>39</td>\n",
       "      <td>4</td>\n",
       "    </tr>\n",
       "    <tr>\n",
       "      <th>1</th>\n",
       "      <td>2</td>\n",
       "      <td>Male</td>\n",
       "      <td>21</td>\n",
       "      <td>15</td>\n",
       "      <td>81</td>\n",
       "      <td>3</td>\n",
       "    </tr>\n",
       "    <tr>\n",
       "      <th>2</th>\n",
       "      <td>3</td>\n",
       "      <td>Female</td>\n",
       "      <td>20</td>\n",
       "      <td>16</td>\n",
       "      <td>6</td>\n",
       "      <td>4</td>\n",
       "    </tr>\n",
       "    <tr>\n",
       "      <th>3</th>\n",
       "      <td>4</td>\n",
       "      <td>Female</td>\n",
       "      <td>23</td>\n",
       "      <td>16</td>\n",
       "      <td>77</td>\n",
       "      <td>3</td>\n",
       "    </tr>\n",
       "    <tr>\n",
       "      <th>4</th>\n",
       "      <td>5</td>\n",
       "      <td>Female</td>\n",
       "      <td>31</td>\n",
       "      <td>17</td>\n",
       "      <td>40</td>\n",
       "      <td>4</td>\n",
       "    </tr>\n",
       "    <tr>\n",
       "      <th>...</th>\n",
       "      <td>...</td>\n",
       "      <td>...</td>\n",
       "      <td>...</td>\n",
       "      <td>...</td>\n",
       "      <td>...</td>\n",
       "      <td>...</td>\n",
       "    </tr>\n",
       "    <tr>\n",
       "      <th>195</th>\n",
       "      <td>196</td>\n",
       "      <td>Female</td>\n",
       "      <td>35</td>\n",
       "      <td>120</td>\n",
       "      <td>79</td>\n",
       "      <td>1</td>\n",
       "    </tr>\n",
       "    <tr>\n",
       "      <th>196</th>\n",
       "      <td>197</td>\n",
       "      <td>Female</td>\n",
       "      <td>45</td>\n",
       "      <td>126</td>\n",
       "      <td>28</td>\n",
       "      <td>2</td>\n",
       "    </tr>\n",
       "    <tr>\n",
       "      <th>197</th>\n",
       "      <td>198</td>\n",
       "      <td>Male</td>\n",
       "      <td>32</td>\n",
       "      <td>126</td>\n",
       "      <td>74</td>\n",
       "      <td>1</td>\n",
       "    </tr>\n",
       "    <tr>\n",
       "      <th>198</th>\n",
       "      <td>199</td>\n",
       "      <td>Male</td>\n",
       "      <td>32</td>\n",
       "      <td>137</td>\n",
       "      <td>18</td>\n",
       "      <td>2</td>\n",
       "    </tr>\n",
       "    <tr>\n",
       "      <th>199</th>\n",
       "      <td>200</td>\n",
       "      <td>Male</td>\n",
       "      <td>30</td>\n",
       "      <td>137</td>\n",
       "      <td>83</td>\n",
       "      <td>1</td>\n",
       "    </tr>\n",
       "  </tbody>\n",
       "</table>\n",
       "<p>200 rows × 6 columns</p>\n",
       "</div>"
      ],
      "text/plain": [
       "     CustomerID  Gender  Age  Annual Income (k$)  Spending Score (1-100)  \\\n",
       "0             1    Male   19                  15                      39   \n",
       "1             2    Male   21                  15                      81   \n",
       "2             3  Female   20                  16                       6   \n",
       "3             4  Female   23                  16                      77   \n",
       "4             5  Female   31                  17                      40   \n",
       "..          ...     ...  ...                 ...                     ...   \n",
       "195         196  Female   35                 120                      79   \n",
       "196         197  Female   45                 126                      28   \n",
       "197         198    Male   32                 126                      74   \n",
       "198         199    Male   32                 137                      18   \n",
       "199         200    Male   30                 137                      83   \n",
       "\n",
       "     Group  \n",
       "0        4  \n",
       "1        3  \n",
       "2        4  \n",
       "3        3  \n",
       "4        4  \n",
       "..     ...  \n",
       "195      1  \n",
       "196      2  \n",
       "197      1  \n",
       "198      2  \n",
       "199      1  \n",
       "\n",
       "[200 rows x 6 columns]"
      ]
     },
     "execution_count": 9,
     "metadata": {},
     "output_type": "execute_result"
    }
   ],
   "source": [
    "df"
   ]
  },
  {
   "cell_type": "code",
   "execution_count": 10,
   "id": "98541356",
   "metadata": {
    "execution": {
     "iopub.execute_input": "2024-03-10T23:05:18.847772Z",
     "iopub.status.busy": "2024-03-10T23:05:18.846943Z",
     "iopub.status.idle": "2024-03-10T23:05:19.256572Z",
     "shell.execute_reply": "2024-03-10T23:05:19.255407Z"
    },
    "papermill": {
     "duration": 0.419223,
     "end_time": "2024-03-10T23:05:19.258981",
     "exception": false,
     "start_time": "2024-03-10T23:05:18.839758",
     "status": "completed"
    },
    "tags": []
   },
   "outputs": [
    {
     "data": {
      "image/png": "[encoded data removed]",
      "text/plain": [
       "<Figure size 900x750 with 1 Axes>"
      ]
     },
     "metadata": {},
     "output_type": "display_data"
    }
   ],
   "source": [
    "df1=  df[df.Group == 0]\n",
    "df2=  df[df.Group == 1]\n",
    "df3=  df[df.Group == 2]\n",
    "df4=  df[df.Group == 3]\n",
    "df5=  df[df.Group == 4]\n",
    "plt.figure(figsize = (9,7.5))\n",
    "plt.scatter(df1[\"Spending Score (1-100)\"] , df1[\"Annual Income (k$)\"]  , color = \"#521820\" , label = \"1\")\n",
    "plt.scatter(df2[\"Spending Score (1-100)\"] , df2[\"Annual Income (k$)\"]  , color = \"#1f6393\" , label = \"2\")\n",
    "plt.scatter(df3[\"Spending Score (1-100)\"] , df3[\"Annual Income (k$)\"] , color = \"#06ac72\" , label = \"3\")\n",
    "plt.scatter(df4[\"Spending Score (1-100)\"] , df4[\"Annual Income (k$)\"], color = \"#b91c97\" , label = \"4\")\n",
    "plt.scatter(df5[\"Spending Score (1-100)\"] , df5[\"Annual Income (k$)\"] , color = \"#cab59a\" , label = \"5\")\n",
    "plt.scatter(model.cluster_centers_[: , 0] ,  model.cluster_centers_[: , 1] , color = \"magenta\" , marker = \"*\"  , label =  \"Centroids\")\n",
    "plt.legend(loc='upper right'  , bbox_to_anchor=(1.20, 1.015))\n",
    "plt.title(\"Clusters\")\n",
    "plt.xlabel(\"Spending Score\")\n",
    "plt.ylabel(\"Annual Income\")\n",
    "plt.show()"
   ]
  }
 ],
 "metadata": {
  "kaggle": {
   "accelerator": "none",
   "dataSources": [
    {
     "datasetId": 42674,
     "sourceId": 74935,
     "sourceType": "datasetVersion"
    }
   ],
   "dockerImageVersionId": 30664,
   "isGpuEnabled": false,
   "isInternetEnabled": true,
   "language": "python",
   "sourceType": "notebook"
  },
  "kernelspec": {
   "display_name": "Python 3",
   "language": "python",
   "name": "python3"
  },
  "language_info": {
   "codemirror_mode": {
    "name": "ipython",
    "version": 3
   },
   "file_extension": ".py",
   "mimetype": "text/x-python",
   "name": "python",
   "nbconvert_exporter": "python",
   "pygments_lexer": "ipython3",
   "version": "3.10.13"
  },
  "papermill": {
   "default_parameters": {},
   "duration": 8.497794,
   "end_time": "2024-03-10T23:05:19.886760",
   "environment_variables": {},
   "exception": null,
   "input_path": "__notebook__.ipynb",
   "output_path": "__notebook__.ipynb",
   "parameters": {},
   "start_time": "2024-03-10T23:05:11.388966",
   "version": "2.5.0"
  }
 },
 "nbformat": 4,
 "nbformat_minor": 5
}
